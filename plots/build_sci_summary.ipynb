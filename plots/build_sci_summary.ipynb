{
 "cells": [
  {
   "cell_type": "markdown",
   "metadata": {},
   "source": [
    "Make a big pandas dataframe to hold all the metric values we're interested in, so then we can pass it around and plot it up any way we like\n",
    "\n",
    "I guess depth in each filter for each DDF?\n",
    "\n"
   ]
  },
  {
   "cell_type": "code",
   "execution_count": 1,
   "metadata": {},
   "outputs": [],
   "source": [
    "import glob\n",
    "import pandas as pd\n",
    "import sqlite3\n",
    "import numpy as np\n",
    "import matplotlib.pylab as plt\n",
    "import os\n",
    "%matplotlib inline"
   ]
  },
  {
   "cell_type": "code",
   "execution_count": 2,
   "metadata": {},
   "outputs": [],
   "source": [
    "# I just coppied them over from hyak and sym linked them to this directory for ease of use\n",
    "glance_15_dirs = glob.glob('sims_featureScheduler_runs1.5/maf/*_glance')\n",
    "sci_15_dirs = glob.glob('sims_featureScheduler_runs1.5/maf/*_sci')\n",
    "glance_16_dirs = glob.glob('sims_featureScheduler_runs1.6/maf/*_glance')\n",
    "sci_16_dirs = glob.glob('sims_featureScheduler_runs1.6/maf/*_sci')\n",
    "glance_14_dirs = glob.glob('sims_featureScheduler_runs1.4/maf_all/*_glance')\n",
    "sci_14_dirs = glob.glob('sims_featureScheduler_runs1.4/maf_all/*_sci')\n",
    "\n",
    "\n",
    "# XXX--note, glob does not return things in any particular order!!!\n",
    "glance_14_dirs.sort()\n",
    "sci_14_dirs.sort()\n",
    "glance_15_dirs.sort()\n",
    "sci_15_dirs.sort()\n",
    "glance_16_dirs.sort()\n",
    "sci_16_dirs.sort()\n"
   ]
  },
  {
   "cell_type": "code",
   "execution_count": 3,
   "metadata": {},
   "outputs": [],
   "source": [
    "# Let's make sure everything matches up\n",
    "for n1,n2 in zip(glance_14_dirs, sci_14_dirs):\n",
    "    assert(n1.replace('sims_featureScheduler_runs1.4/maf_all/','').replace('glance', '') == n2.replace('sims_featureScheduler_runs1.4/maf_all/', '').replace('sci',''))\n",
    "\n",
    "for n1,n2 in zip(glance_15_dirs, sci_15_dirs):\n",
    "    assert(n1.replace('sims_featureScheduler_runs1.5/maf/','').replace('glance', '') == n2.replace('sims_featureScheduler_runs1.5/maf/', '').replace('sci',''))\n",
    "for n1,n2 in zip(glance_16_dirs, sci_16_dirs):\n",
    "    assert(n1.replace('sims_featureScheduler_runs1.6/maf/','').replace('glance', '') == n2.replace('sims_featureScheduler_runs1.6/maf/', '').replace('sci',''))\n"
   ]
  },
  {
   "cell_type": "code",
   "execution_count": null,
   "metadata": {},
   "outputs": [],
   "source": []
  },
  {
   "cell_type": "code",
   "execution_count": null,
   "metadata": {},
   "outputs": [],
   "source": []
  },
  {
   "cell_type": "code",
   "execution_count": 4,
   "metadata": {},
   "outputs": [],
   "source": [
    "runNames = [name[38:-13] for name in glance_14_dirs] + [name[34:-13] for name in glance_15_dirs] + [name[34:-13] for name in glance_16_dirs] \n",
    "versions = [1.4]*len(glance_14_dirs) +[1.5]*len(glance_15_dirs) + [1.6]*len(glance_16_dirs)"
   ]
  },
  {
   "cell_type": "code",
   "execution_count": 5,
   "metadata": {},
   "outputs": [],
   "source": [
    "# Set up the dataframe\n",
    "df = pd.DataFrame(np.array([runNames, versions]).T, columns=['runName', 'version'])"
   ]
  },
  {
   "cell_type": "code",
   "execution_count": 6,
   "metadata": {},
   "outputs": [],
   "source": [
    "# List of tupes with (metricName, summaryName) that we want to pull from glance dirs\n",
    "mnamesname =[('parallax', 'best18k'),\n",
    "            ('properMotion', 'best18k'),\n",
    "            ('fO', 'fONv MedianNvis'),\n",
    "            ('fO', 'fOArea')]"
   ]
  },
  {
   "cell_type": "code",
   "execution_count": 7,
   "metadata": {},
   "outputs": [],
   "source": [
    "for names in mnamesname:\n",
    "    column_vals = []\n",
    "    sql = 'select summaryValue from summarystats where metricId = (select metricId from metrics where metricName = \"%s\") and summaryName= \"%s\";' % (names[0], names[1])\n",
    "    for directory in glance_14_dirs+glance_15_dirs+glance_16_dirs:\n",
    "        conn = sqlite3.connect(directory+'/resultsDb_sqlite.db')\n",
    "        result = pd.read_sql(sql, conn).values.ravel()\n",
    "        if np.size(result) > 1:\n",
    "            ValueError\n",
    "        else:\n",
    "            column_vals.append(np.max(result))\n",
    "        conn.close()\n",
    "    df[names[0]+'_'+names[1]] = column_vals"
   ]
  },
  {
   "cell_type": "code",
   "execution_count": 8,
   "metadata": {},
   "outputs": [],
   "source": [
    "# Add the median coadded depths in each filter\n",
    "for filtername in 'ugrizy':\n",
    "    column_vals = []\n",
    "    sql = 'select summaryValue from summarystats where metricId = (select metricId from metrics where metricName = \"CoaddM5\" and metricMetadata=\" %s\") and summaryName= \"Median\";' % (filtername)\n",
    "    for directory in glance_14_dirs+glance_15_dirs+glance_16_dirs:\n",
    "        conn = sqlite3.connect(directory+'/resultsDb_sqlite.db')\n",
    "        result = pd.read_sql(sql, conn).values.ravel()\n",
    "        if np.size(result) > 1:\n",
    "            ValueError\n",
    "        else:\n",
    "            column_vals.append(np.max(result))\n",
    "        conn.close()\n",
    "    df['median_coadd_%s' % filtername] = column_vals\n"
   ]
  },
  {
   "cell_type": "code",
   "execution_count": 9,
   "metadata": {},
   "outputs": [],
   "source": [
    "# List of tupes with (metricName, summaryName) that we want to pull from science dirs\n",
    "mnamesname =[('SNIa_PrePeak', 'Mean'),\n",
    "            ('Fast Microlensing', 'Mean'),\n",
    "            ('Slow Microlensing', 'Mean'),\n",
    "            ('KN_PrePeak', 'Mean'),\n",
    "             ('TDEsPopMetric', 'Mean'),\n",
    "            ('GalaxyCountsMetric_extended', 'N Galaxies (all)')]"
   ]
  },
  {
   "cell_type": "code",
   "execution_count": 10,
   "metadata": {},
   "outputs": [],
   "source": [
    "for names in mnamesname:\n",
    "    column_vals = []\n",
    "    sql = 'select summaryValue from summarystats where metricId = (select metricId from metrics where metricName = \"%s\") and summaryName= \"%s\";' % (names[0], names[1])\n",
    "    for directory in sci_14_dirs+sci_15_dirs+sci_16_dirs:\n",
    "        conn = sqlite3.connect(directory+'/resultsDb_sqlite.db')\n",
    "        result = pd.read_sql(sql, conn).values.ravel()\n",
    "        if np.size(result) > 1:\n",
    "            ValueError\n",
    "        else:\n",
    "            column_vals.append(np.max(result))\n",
    "        conn.close()\n",
    "    df[names[0]+'_'+names[1]] = column_vals"
   ]
  },
  {
   "cell_type": "code",
   "execution_count": 11,
   "metadata": {},
   "outputs": [],
   "source": [
    "# things that need some metadata\n",
    "mnamesname =[('Nstars_no_crowding', 'Total N Stars, no crowding')]\n",
    "\n",
    "for names in mnamesname:\n",
    "    column_vals = []\n",
    "    sql = 'select summaryValue from summarystats where metricId = (select metricId from metrics where metricName = \"%s\" and metricMetadata=\" i\") and summaryName= \"%s\";' % (names[0], names[1])\n",
    "    for directory in sci_14_dirs+sci_15_dirs+sci_16_dirs:\n",
    "        conn = sqlite3.connect(directory+'/resultsDb_sqlite.db')\n",
    "        result = pd.read_sql(sql, conn).values.ravel()\n",
    "        if np.size(result) > 1:\n",
    "            ValueError\n",
    "        else:\n",
    "            column_vals.append(np.max(result))\n",
    "        conn.close()\n",
    "    df[names[0]+'_'+names[1]] = column_vals\n"
   ]
  },
  {
   "cell_type": "code",
   "execution_count": 12,
   "metadata": {},
   "outputs": [],
   "source": [
    "# Pull the DDF depths from everywhere. \n",
    "filters = 'ugrizy'\n",
    "ddf_names = ['DD:ELAISS1', 'DD:XMM-LSS', 'DD:ECDFS', 'DD:COSMOS', 'DD:EDFS', 'DD:EDFSa', 'DD:EDFSb']\n",
    "\n",
    "for filtername in filters:\n",
    "    for ddf_name in ddf_names:\n",
    "        column_vals = []\n",
    "        sql = 'select summaryValue from summarystats where summaryName=\"Median depth %s, %s\"' % (ddf_name, filtername)\n",
    "        for directory in sci_14_dirs+sci_15_dirs+sci_16_dirs:\n",
    "            conn = sqlite3.connect(directory+'/resultsDb_sqlite.db')\n",
    "            result = pd.read_sql(sql, conn).values.ravel()\n",
    "            if np.size(result) > 1:\n",
    "                ValueError\n",
    "            else:\n",
    "                column_vals.append(np.max(result))\n",
    "            conn.close()\n",
    "        df[ddf_name+','+filtername] = column_vals"
   ]
  },
  {
   "cell_type": "code",
   "execution_count": null,
   "metadata": {},
   "outputs": [],
   "source": []
  },
  {
   "cell_type": "code",
   "execution_count": null,
   "metadata": {},
   "outputs": [],
   "source": []
  },
  {
   "cell_type": "code",
   "execution_count": 13,
   "metadata": {},
   "outputs": [],
   "source": [
    "# From https://epyc.astro.washington.edu/~lynnej/opsim_downloads/\n",
    "ss_14 = pd.read_csv('discovery_1.4.csv').sort_values('Unnamed: 0')\n",
    "ss_15 = pd.read_csv('discovery_1.5.csv').sort_values('Unnamed: 0')\n",
    "ss_16 = pd.read_csv('discovery_1.6.csv').sort_values('Unnamed: 0')\n",
    "\n"
   ]
  },
  {
   "cell_type": "code",
   "execution_count": null,
   "metadata": {},
   "outputs": [],
   "source": []
  },
  {
   "cell_type": "code",
   "execution_count": 14,
   "metadata": {},
   "outputs": [
    {
     "name": "stdout",
     "output_type": "stream",
     "text": [
      "86 86\n",
      "123 116\n",
      "30 30\n"
     ]
    }
   ],
   "source": [
    "# len(glance_16_dirs), len(ss_16)\n",
    "print(len(glance_15_dirs), len(ss_15))\n",
    "print(len(glance_14_dirs), len(ss_14))\n",
    "print(len(glance_16_dirs), len(ss_16))\n"
   ]
  },
  {
   "cell_type": "code",
   "execution_count": null,
   "metadata": {},
   "outputs": [],
   "source": []
  },
  {
   "cell_type": "code",
   "execution_count": 15,
   "metadata": {},
   "outputs": [],
   "source": [
    "# Let's add the new columns\n",
    "to_add_columns = list(ss_14.columns)[1:]\n",
    "blank = np.zeros(len(df)) +np.nan\n",
    "\n",
    "for colname in to_add_columns:\n",
    "    df[colname] = blank"
   ]
  },
  {
   "cell_type": "code",
   "execution_count": 16,
   "metadata": {},
   "outputs": [
    {
     "name": "stderr",
     "output_type": "stream",
     "text": [
      "/Users/yoachim/lsst/python/miniconda3-4.5.12/envs/lsst-scipipe-1172c30/lib/python3.7/site-packages/ipykernel_launcher.py:8: SettingWithCopyWarning: \n",
      "A value is trying to be set on a copy of a slice from a DataFrame\n",
      "\n",
      "See the caveats in the documentation: http://pandas.pydata.org/pandas-docs/stable/indexing.html#indexing-view-versus-copy\n",
      "  \n",
      "/Users/yoachim/lsst/python/miniconda3-4.5.12/envs/lsst-scipipe-1172c30/lib/python3.7/site-packages/ipykernel_launcher.py:17: SettingWithCopyWarning: \n",
      "A value is trying to be set on a copy of a slice from a DataFrame\n",
      "\n",
      "See the caveats in the documentation: http://pandas.pydata.org/pandas-docs/stable/indexing.html#indexing-view-versus-copy\n",
      "/Users/yoachim/lsst/python/miniconda3-4.5.12/envs/lsst-scipipe-1172c30/lib/python3.7/site-packages/ipykernel_launcher.py:27: SettingWithCopyWarning: \n",
      "A value is trying to be set on a copy of a slice from a DataFrame\n",
      "\n",
      "See the caveats in the documentation: http://pandas.pydata.org/pandas-docs/stable/indexing.html#indexing-view-versus-copy\n"
     ]
    }
   ],
   "source": [
    "# Loop through things and populate df\n",
    "runnames = df['runName'].values\n",
    "for i in ss_14.index:\n",
    "    rn = ss_14['Unnamed: 0'][i][0:-6]\n",
    "    indx = np.where(rn == runnames)[0]\n",
    "    if np.size(indx) == 1:\n",
    "        for col in to_add_columns:\n",
    "            df[col][indx] = ss_14[col][i]+0\n",
    "            \n",
    "# Loop through things and populate df\n",
    "runnames = df['runName'].values\n",
    "for i in ss_15.index:\n",
    "    rn = ss_15['Unnamed: 0'][i][0:-6]\n",
    "    indx = np.where(rn == runnames)[0]\n",
    "    if np.size(indx) == 1:\n",
    "        for col in to_add_columns:\n",
    "            df[col][indx] = ss_15[col][i]+0\n",
    "            \n",
    "            \n",
    "# Loop through things and populate df\n",
    "runnames = df['runName'].values\n",
    "for i in ss_16.index:\n",
    "    rn = ss_16['Unnamed: 0'][i][0:-6]\n",
    "    indx = np.where(rn == runnames)[0]\n",
    "    if np.size(indx) == 1:\n",
    "        for col in to_add_columns:\n",
    "            df[col][indx] = ss_16[col][i]+0"
   ]
  },
  {
   "cell_type": "code",
   "execution_count": null,
   "metadata": {},
   "outputs": [],
   "source": []
  },
  {
   "cell_type": "code",
   "execution_count": 17,
   "metadata": {},
   "outputs": [
    {
     "data": {
      "text/plain": [
       "[<matplotlib.lines.Line2D at 0x7fb7642fb1d0>]"
      ]
     },
     "execution_count": 17,
     "metadata": {},
     "output_type": "execute_result"
    },
    {
     "data": {
      "image/png": "[encoded data removed]",
      "text/plain": [
       "<Figure size 432x288 with 1 Axes>"
      ]
     },
     "metadata": {
      "needs_background": "light"
     },
     "output_type": "display_data"
    }
   ],
   "source": [
    "plt.plot(df['median_coadd_g'])"
   ]
  },
  {
   "cell_type": "code",
   "execution_count": null,
   "metadata": {},
   "outputs": [],
   "source": []
  },
  {
   "cell_type": "code",
   "execution_count": 18,
   "metadata": {},
   "outputs": [
    {
     "data": {
      "text/plain": [
       "Index(['runName', 'version', 'parallax_best18k', 'properMotion_best18k',\n",
       "       'fO_fONv MedianNvis', 'fO_fOArea', 'median_coadd_u', 'median_coadd_g',\n",
       "       'median_coadd_r', 'median_coadd_i', 'median_coadd_z', 'median_coadd_y',\n",
       "       'SNIa_PrePeak_Mean', 'Fast Microlensing_Mean', 'Slow Microlensing_Mean',\n",
       "       'KN_PrePeak_Mean', 'TDEsPopMetric_Mean',\n",
       "       'GalaxyCountsMetric_extended_N Galaxies (all)',\n",
       "       'Nstars_no_crowding_Total N Stars, no crowding', 'DD:ELAISS1,u',\n",
       "       'DD:XMM-LSS,u', 'DD:ECDFS,u', 'DD:COSMOS,u', 'DD:EDFS,u', 'DD:EDFSa,u',\n",
       "       'DD:EDFSb,u', 'DD:ELAISS1,g', 'DD:XMM-LSS,g', 'DD:ECDFS,g',\n",
       "       'DD:COSMOS,g', 'DD:EDFS,g', 'DD:EDFSa,g', 'DD:EDFSb,g', 'DD:ELAISS1,r',\n",
       "       'DD:XMM-LSS,r', 'DD:ECDFS,r', 'DD:COSMOS,r', 'DD:EDFS,r', 'DD:EDFSa,r',\n",
       "       'DD:EDFSb,r', 'DD:ELAISS1,i', 'DD:XMM-LSS,i', 'DD:ECDFS,i',\n",
       "       'DD:COSMOS,i', 'DD:EDFS,i', 'DD:EDFSa,i', 'DD:EDFSb,i', 'DD:ELAISS1,z',\n",
       "       'DD:XMM-LSS,z', 'DD:ECDFS,z', 'DD:COSMOS,z', 'DD:EDFS,z', 'DD:EDFSa,z',\n",
       "       'DD:EDFSb,z', 'DD:ELAISS1,y', 'DD:XMM-LSS,y', 'DD:ECDFS,y',\n",
       "       'DD:COSMOS,y', 'DD:EDFS,y', 'DD:EDFSa,y', 'DD:EDFSb,y',\n",
       "       '3 pairs in 15 nights detection loss NEO H=16.0',\n",
       "       '3 pairs in 15 nights detection loss NEO H=22.0',\n",
       "       '3 pairs in 15 nights detection loss MBA H=16.0',\n",
       "       '3 pairs in 15 nights detection loss MBA H=21.0',\n",
       "       '3 pairs in 15 nights detection loss Trojan H=14.0',\n",
       "       '3 pairs in 15 nights detection loss Trojan H=18.0',\n",
       "       '3 pairs in 15 nights detection loss TNO H=4.0',\n",
       "       '3 pairs in 15 nights detection loss TNO H=8.0',\n",
       "       '3 pairs in 30 nights detection loss NEO H=16.0',\n",
       "       '3 pairs in 30 nights detection loss NEO H=22.0',\n",
       "       '3 pairs in 30 nights detection loss MBA H=16.0',\n",
       "       '3 pairs in 30 nights detection loss MBA H=21.0',\n",
       "       '3 pairs in 30 nights detection loss Trojan H=14.0',\n",
       "       '3 pairs in 30 nights detection loss Trojan H=18.0',\n",
       "       '3 pairs in 30 nights detection loss TNO H=4.0',\n",
       "       '3 pairs in 30 nights detection loss TNO H=8.0'],\n",
       "      dtype='object')"
      ]
     },
     "execution_count": 18,
     "metadata": {},
     "output_type": "execute_result"
    }
   ],
   "source": [
    "df.columns"
   ]
  },
  {
   "cell_type": "code",
   "execution_count": 19,
   "metadata": {},
   "outputs": [],
   "source": [
    "# pickle would be much smaller, but I guess can zip after if we want to\n",
    "df.to_hdf('combined_maf_dataframe.hdf', 'maf')\n",
    "# restore with:\n",
    "# df = pd.read_hdf('combined_maf_dataframe.hdf', 'maf')"
   ]
  },
  {
   "cell_type": "code",
   "execution_count": null,
   "metadata": {},
   "outputs": [],
   "source": []
  },
  {
   "cell_type": "code",
   "execution_count": null,
   "metadata": {},
   "outputs": [],
   "source": []
  },
  {
   "cell_type": "code",
   "execution_count": null,
   "metadata": {},
   "outputs": [],
   "source": []
  },
  {
   "cell_type": "code",
   "execution_count": null,
   "metadata": {},
   "outputs": [],
   "source": []
  },
  {
   "cell_type": "code",
   "execution_count": null,
   "metadata": {},
   "outputs": [],
   "source": []
  }
 ],
 "metadata": {
  "kernelspec": {
   "display_name": "Python 3",
   "language": "python",
   "name": "python3"
  },
  "language_info": {
   "codemirror_mode": {
    "name": "ipython",
    "version": 3
   },
   "file_extension": ".py",
   "mimetype": "text/x-python",
   "name": "python",
   "nbconvert_exporter": "python",
   "pygments_lexer": "ipython3",
   "version": "3.7.2"
  }
 },
 "nbformat": 4,
 "nbformat_minor": 2
}
