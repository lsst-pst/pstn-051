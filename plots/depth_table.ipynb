{
 "cells": [
  {
   "cell_type": "code",
   "execution_count": 1,
   "metadata": {},
   "outputs": [],
   "source": [
    "import numpy as np\n",
    "import pandas as pd\n",
    "import sqlite3\n",
    "import os"
   ]
  },
  {
   "cell_type": "code",
   "execution_count": 2,
   "metadata": {},
   "outputs": [],
   "source": [
    "names2dirs = {'Baseline': 'baseline_nexp1_v1.6_10yrs_glance',\n",
    "             'Baseline 2 snaps': 'baseline_nexp2_v1.6_10yrs_glance',\n",
    "             'Barebones': 'barebones_v1.6_10yrs_glance',\n",
    "             'DDF Heavy': 'ddf_heavy_v1.6_10yrs_glance',\n",
    "             'DM Heavy': 'dm_heavy_v1.6_10yrs_glance',\n",
    "             'MW Heavy': 'mw_heavy_v1.6_10yrs_glance',\n",
    "              'Rolling Exgal': 'rolling_exgal_mod2_dust_sdf_0.80_v1.6_10yrs_glance',\n",
    "              'SS Heavy': 'ss_heavy_v1.6_10yrs_glance',\n",
    "               'Combo Dust': 'combo_dust_v1.6_10yrs_glance',}"
   ]
  },
  {
   "cell_type": "code",
   "execution_count": 3,
   "metadata": {},
   "outputs": [],
   "source": [
    "root = 'sims_featureScheduler_runs1.6/potential_schedulers/'\n",
    "conn = sqlite3.connect(root+names2dirs['Baseline']+'/resultsDb_sqlite.db')\n",
    "filt2metricid = {'u': 99, 'g': 94, 'r': 84, 'i': 69, \"z\": 74, 'y': 79}\n"
   ]
  },
  {
   "cell_type": "code",
   "execution_count": 4,
   "metadata": {},
   "outputs": [],
   "source": [
    "\n",
    "baseline_medians = []\n",
    "for filtername in filt2metricid:\n",
    "    const = \"'\" + 'filter=\"%s\"' % filtername +\"'\"\n",
    "    sql = 'select metricId from metrics where metricname=\"CoaddM5\" and metricMetadata=\" %s\"' % filtername\n",
    "    mid = np.max(pd.read_sql(sql, conn).values)\n",
    "    sql = 'select summaryValue from summarystats where metricId=%i and summaryName=\"Median\";' % mid\n",
    "    baseline_medians.append(np.max(pd.read_sql(sql, conn).values))\n",
    "conn.close()"
   ]
  },
  {
   "cell_type": "code",
   "execution_count": null,
   "metadata": {},
   "outputs": [],
   "source": [
    "\n"
   ]
  },
  {
   "cell_type": "code",
   "execution_count": 5,
   "metadata": {},
   "outputs": [],
   "source": [
    "diffs = []\n",
    "for name in names2dirs:\n",
    "    conn = sqlite3.connect(root+names2dirs[name]+'/resultsDb_sqlite.db')\n",
    "    depths = []\n",
    "    for filtername in filt2metricid:\n",
    "        const = \"'\" + 'filter=\"%s\"' % filtername +\"'\"\n",
    "        sql = 'select metricId from metrics where metricname=\"CoaddM5\" and metricMetadata=\" %s\"' % filtername\n",
    "        mid = np.max(pd.read_sql(sql, conn).values)\n",
    "        sql = 'select summaryValue from summarystats where metricId=%i and summaryName=\"Median\";' % mid\n",
    "        depths.append(np.max(pd.read_sql(sql, conn).values))\n",
    "    diffs.append(np.array(baseline_medians) - np.array(depths))\n",
    "    conn.close()"
   ]
  },
  {
   "cell_type": "code",
   "execution_count": 6,
   "metadata": {},
   "outputs": [
    {
     "data": {
      "text/plain": [
       "[array([0., 0., 0., 0., 0., 0.]),\n",
       " array([0.24062333, 0.11076862, 0.07816952, 0.07054639, 0.05744362,\n",
       "        0.05662379]),\n",
       " array([-0.13033059, -0.14903502, -0.11523458, -0.17004907, -0.11926319,\n",
       "        -0.13748785]),\n",
       " array([0.07706529, 0.08524253, 0.07730534, 0.10635514, 0.07655759,\n",
       "        0.06285393]),\n",
       " array([ 0.11093656,  0.12250268,  0.06843433, -0.00520472, -0.01112527,\n",
       "         0.03737058]),\n",
       " array([0.01891521, 0.00779402, 0.00554651, 0.014471  , 0.00992623,\n",
       "        0.01030969]),\n",
       " array([0.11171172, 0.09777154, 0.1040644 , 0.10817452, 0.1057656 ,\n",
       "        0.08796693]),\n",
       " array([-0.01602877,  0.0683776 ,  0.04687154,  0.1074376 ,  0.01786905,\n",
       "         0.03405319]),\n",
       " array([0.11719467, 0.14191839, 0.13965777, 0.14524716, 0.10620789,\n",
       "        0.08540689])]"
      ]
     },
     "execution_count": 6,
     "metadata": {},
     "output_type": "execute_result"
    }
   ],
   "source": [
    "diffs"
   ]
  },
  {
   "cell_type": "code",
   "execution_count": 7,
   "metadata": {},
   "outputs": [],
   "source": [
    "\n",
    "# lets put it all into a dataframe\n",
    "df = pd.DataFrame()\n",
    "df['filter'] = list(filt2metricid.keys())"
   ]
  },
  {
   "cell_type": "code",
   "execution_count": 8,
   "metadata": {},
   "outputs": [],
   "source": [
    "for i,key in enumerate(names2dirs):\n",
    "    df[key] = diffs[i]"
   ]
  },
  {
   "cell_type": "code",
   "execution_count": 9,
   "metadata": {},
   "outputs": [],
   "source": [
    "df['Baseline'] = baseline_medians"
   ]
  },
  {
   "cell_type": "code",
   "execution_count": 10,
   "metadata": {},
   "outputs": [],
   "source": [
    "f = open('mag_diff.tex', 'w')\n",
    "table = df.to_latex(float_format=\"%.2f\", index=False)\n",
    "print(table, file=f)\n",
    "f.close()"
   ]
  },
  {
   "cell_type": "code",
   "execution_count": null,
   "metadata": {},
   "outputs": [],
   "source": []
  }
 ],
 "metadata": {
  "kernelspec": {
   "display_name": "Python 3",
   "language": "python",
   "name": "python3"
  },
  "language_info": {
   "codemirror_mode": {
    "name": "ipython",
    "version": 3
   },
   "file_extension": ".py",
   "mimetype": "text/x-python",
   "name": "python",
   "nbconvert_exporter": "python",
   "pygments_lexer": "ipython3",
   "version": "3.7.2"
  }
 },
 "nbformat": 4,
 "nbformat_minor": 2
}
