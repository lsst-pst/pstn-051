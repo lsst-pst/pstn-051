{
 "cells": [
  {
   "cell_type": "code",
   "execution_count": 1,
   "metadata": {},
   "outputs": [],
   "source": [
    "import pandas as pd"
   ]
  },
  {
   "cell_type": "code",
   "execution_count": 2,
   "metadata": {},
   "outputs": [],
   "source": [
    "dists=      {1: {'u': 1, 'g': 1, 'r': 1, 'i': 1, 'z': 1, 'y': 1},  # uniform\n",
    "             2: {'u': 0.31, 'g': 0.44, 'r': 1, 'i': 1, 'z': 0.9, 'y': 0.9},  # classic default\n",
    "             3: {'u': 0.31, 'g': 1, 'r': 1, 'i': 1, 'z': 0.9, 'y': 0.9},  # g heavy\n",
    "             4: {'u': 0.9, 'g': 0.44, 'r': 1, 'i': 1, 'z': 0.9, 'y': 0.9},  # u heavy\n",
    "             5: {'u': 0.31, 'g': 0.44, 'r': 1, 'i': 1, 'z': 1.5, 'y': 1.5},  # z and y heavy\n",
    "             6: {'u': 0.31, 'g': 0.44, 'r': 1, 'i': 1.5, 'z': 0.9, 'y': 0.9},  # i heavy\n",
    "             7: {'u': 0.5, 'g': 0.6, 'r': 1, 'i': 1, 'z': 0.9, 'y': 0.9},  # slight bluer\n",
    "             8: {'u': 0.31, 'g': 0.44, 'r': 1, 'i': 1.1, 'z': 1.1, 'y': 1.1}  # slight redder\n",
    "            }\n",
    "\n",
    "names = ['Uniform', 'Baseline', '$g$ heavy', '$u$ heavy', '$z$ and $y$ heavy', '$i$ heavy', 'Bluer', 'Redder']"
   ]
  },
  {
   "cell_type": "code",
   "execution_count": 3,
   "metadata": {},
   "outputs": [],
   "source": [
    "table = []\n",
    "for i,dist in enumerate(dists):\n",
    "    table.append([names[i], dists[dist]['u'], dists[dist]['g'], dists[dist]['r'], dists[dist]['i'], dists[dist]['z'], dists[dist]['y']])"
   ]
  },
  {
   "cell_type": "code",
   "execution_count": 4,
   "metadata": {},
   "outputs": [],
   "source": [
    "cols = ['Name']+list(dists[dist].keys())\n",
    "df = pd.DataFrame(table, columns=cols)"
   ]
  },
  {
   "cell_type": "code",
   "execution_count": 5,
   "metadata": {},
   "outputs": [
    {
     "data": {
      "text/html": [
       "<div>\n",
       "<style scoped>\n",
       "    .dataframe tbody tr th:only-of-type {\n",
       "        vertical-align: middle;\n",
       "    }\n",
       "\n",
       "    .dataframe tbody tr th {\n",
       "        vertical-align: top;\n",
       "    }\n",
       "\n",
       "    .dataframe thead th {\n",
       "        text-align: right;\n",
       "    }\n",
       "</style>\n",
       "<table border=\"1\" class=\"dataframe\">\n",
       "  <thead>\n",
       "    <tr style=\"text-align: right;\">\n",
       "      <th></th>\n",
       "      <th>Name</th>\n",
       "      <th>u</th>\n",
       "      <th>g</th>\n",
       "      <th>r</th>\n",
       "      <th>i</th>\n",
       "      <th>z</th>\n",
       "      <th>y</th>\n",
       "    </tr>\n",
       "  </thead>\n",
       "  <tbody>\n",
       "    <tr>\n",
       "      <th>0</th>\n",
       "      <td>Uniform</td>\n",
       "      <td>1.00</td>\n",
       "      <td>1.00</td>\n",
       "      <td>1</td>\n",
       "      <td>1.0</td>\n",
       "      <td>1.0</td>\n",
       "      <td>1.0</td>\n",
       "    </tr>\n",
       "    <tr>\n",
       "      <th>1</th>\n",
       "      <td>Baseline</td>\n",
       "      <td>0.31</td>\n",
       "      <td>0.44</td>\n",
       "      <td>1</td>\n",
       "      <td>1.0</td>\n",
       "      <td>0.9</td>\n",
       "      <td>0.9</td>\n",
       "    </tr>\n",
       "    <tr>\n",
       "      <th>2</th>\n",
       "      <td>$g$ heavy</td>\n",
       "      <td>0.31</td>\n",
       "      <td>1.00</td>\n",
       "      <td>1</td>\n",
       "      <td>1.0</td>\n",
       "      <td>0.9</td>\n",
       "      <td>0.9</td>\n",
       "    </tr>\n",
       "    <tr>\n",
       "      <th>3</th>\n",
       "      <td>$u$ heavy</td>\n",
       "      <td>0.90</td>\n",
       "      <td>0.44</td>\n",
       "      <td>1</td>\n",
       "      <td>1.0</td>\n",
       "      <td>0.9</td>\n",
       "      <td>0.9</td>\n",
       "    </tr>\n",
       "    <tr>\n",
       "      <th>4</th>\n",
       "      <td>$z$ and $y$ heavy</td>\n",
       "      <td>0.31</td>\n",
       "      <td>0.44</td>\n",
       "      <td>1</td>\n",
       "      <td>1.0</td>\n",
       "      <td>1.5</td>\n",
       "      <td>1.5</td>\n",
       "    </tr>\n",
       "    <tr>\n",
       "      <th>5</th>\n",
       "      <td>$i$ heavy</td>\n",
       "      <td>0.31</td>\n",
       "      <td>0.44</td>\n",
       "      <td>1</td>\n",
       "      <td>1.5</td>\n",
       "      <td>0.9</td>\n",
       "      <td>0.9</td>\n",
       "    </tr>\n",
       "    <tr>\n",
       "      <th>6</th>\n",
       "      <td>Bluer</td>\n",
       "      <td>0.50</td>\n",
       "      <td>0.60</td>\n",
       "      <td>1</td>\n",
       "      <td>1.0</td>\n",
       "      <td>0.9</td>\n",
       "      <td>0.9</td>\n",
       "    </tr>\n",
       "    <tr>\n",
       "      <th>7</th>\n",
       "      <td>Redder</td>\n",
       "      <td>0.31</td>\n",
       "      <td>0.44</td>\n",
       "      <td>1</td>\n",
       "      <td>1.1</td>\n",
       "      <td>1.1</td>\n",
       "      <td>1.1</td>\n",
       "    </tr>\n",
       "  </tbody>\n",
       "</table>\n",
       "</div>"
      ],
      "text/plain": [
       "                Name     u     g  r    i    z    y\n",
       "0            Uniform  1.00  1.00  1  1.0  1.0  1.0\n",
       "1           Baseline  0.31  0.44  1  1.0  0.9  0.9\n",
       "2          $g$ heavy  0.31  1.00  1  1.0  0.9  0.9\n",
       "3          $u$ heavy  0.90  0.44  1  1.0  0.9  0.9\n",
       "4  $z$ and $y$ heavy  0.31  0.44  1  1.0  1.5  1.5\n",
       "5          $i$ heavy  0.31  0.44  1  1.5  0.9  0.9\n",
       "6              Bluer  0.50  0.60  1  1.0  0.9  0.9\n",
       "7             Redder  0.31  0.44  1  1.1  1.1  1.1"
      ]
     },
     "execution_count": 5,
     "metadata": {},
     "output_type": "execute_result"
    }
   ],
   "source": [
    "df"
   ]
  },
  {
   "cell_type": "code",
   "execution_count": 6,
   "metadata": {},
   "outputs": [],
   "source": [
    "f = open('filterdist.tex', 'w')\n",
    "df = df.to_latex(float_format=\"%.2f\", index=False)\n",
    "print(df, file=f)\n",
    "f.close()"
   ]
  },
  {
   "cell_type": "code",
   "execution_count": null,
   "metadata": {},
   "outputs": [],
   "source": []
  }
 ],
 "metadata": {
  "kernelspec": {
   "display_name": "Python 3",
   "language": "python",
   "name": "python3"
  },
  "language_info": {
   "codemirror_mode": {
    "name": "ipython",
    "version": 3
   },
   "file_extension": ".py",
   "mimetype": "text/x-python",
   "name": "python",
   "nbconvert_exporter": "python",
   "pygments_lexer": "ipython3",
   "version": "3.7.2"
  }
 },
 "nbformat": 4,
 "nbformat_minor": 2
}
